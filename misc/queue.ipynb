{
 "metadata": {
  "language_info": {
   "codemirror_mode": {
    "name": "ipython",
    "version": 3
   },
   "file_extension": ".py",
   "mimetype": "text/x-python",
   "name": "python",
   "nbconvert_exporter": "python",
   "pygments_lexer": "ipython3",
   "version": "3.8.5-final"
  },
  "orig_nbformat": 2,
  "kernelspec": {
   "name": "python_defaultSpec_1599840589457",
   "display_name": "Python 3.8.5 64-bit"
  }
 },
 "nbformat": 4,
 "nbformat_minor": 2,
 "cells": [
  {
   "cell_type": "code",
   "execution_count": 1,
   "metadata": {
    "tags": []
   },
   "outputs": [
    {
     "output_type": "stream",
     "name": "stdout",
     "text": "1\n3\n7\n10\n"
    }
   ],
   "source": [
    "# Priority Queue from queue\n",
    "from queue import PriorityQueue\n",
    "queue = PriorityQueue()\n",
    "queue.put(3)\n",
    "queue.put(1)\n",
    "queue.put(7)\n",
    "queue.put(10)\n",
    "\n",
    "for i in range(4):\n",
    "    print(queue.get(i))"
   ]
  },
  {
   "cell_type": "code",
   "execution_count": 4,
   "metadata": {
    "tags": []
   },
   "outputs": [
    {
     "output_type": "stream",
     "name": "stdout",
     "text": "1\n1\n3\n4\n7\n[1, 3, 5, 4, 8, 7]\n"
    }
   ],
   "source": [
    "# Priority Queue from headq (min heap based binary tree)\n",
    "import heapq\n",
    "\n",
    "heap = []\n",
    "heapq.heappush(heap, 4)\n",
    "heapq.heappush(heap, 1)\n",
    "heapq.heappush(heap, 7)\n",
    "heapq.heappush(heap, 3)\n",
    "\n",
    "# peek\n",
    "print(heap[0])\n",
    "\n",
    "for i in range(4):\n",
    "    print(heapq.heappop(heap))\n",
    "\n",
    "# list to heap\n",
    "heap = [4, 1, 7, 3, 8, 5]\n",
    "heapq.heapify(heap)\n",
    "print(heap)"
   ]
  },
  {
   "cell_type": "code",
   "execution_count": 5,
   "metadata": {
    "tags": []
   },
   "outputs": [
    {
     "output_type": "stream",
     "name": "stdout",
     "text": "8\n7\n5\n4\n3\n1\n"
    }
   ],
   "source": [
    "# Priority Queue from headq (max heap based binary tree)\n",
    "import heapq\n",
    "\n",
    "nums = [4, 1, 7, 3, 8, 5]\n",
    "heap = []\n",
    "\n",
    "# If add tuple to heap, heap uses first value for key\n",
    "for num in nums:\n",
    "    heapq.heappush(heap, (-num, num)) # tuple(priority, value)\n",
    "\n",
    "while heap:\n",
    "    print(heapq.heappop(heap)[1])"
   ]
  }
 ]
}