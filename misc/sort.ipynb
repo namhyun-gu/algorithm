{
 "metadata": {
  "language_info": {
   "codemirror_mode": {
    "name": "ipython",
    "version": 3
   },
   "file_extension": ".py",
   "mimetype": "text/x-python",
   "name": "python",
   "nbconvert_exporter": "python",
   "pygments_lexer": "ipython3",
   "version": "3.8.5-final"
  },
  "orig_nbformat": 2,
  "kernelspec": {
   "name": "python_defaultSpec_1599839993018",
   "display_name": "Python 3.8.5 64-bit"
  }
 },
 "nbformat": 4,
 "nbformat_minor": 2,
 "cells": [
  {
   "cell_type": "code",
   "execution_count": 3,
   "metadata": {
    "tags": []
   },
   "outputs": [
    {
     "output_type": "stream",
     "name": "stdout",
     "text": "[1, 2, 3, 4, 5]\n[1, 2, 3, 4, 5]\n[1, 2, 3]\n"
    }
   ],
   "source": [
    "# Basic sort\n",
    "print(sorted([5, 2, 3, 1, 4]))\n",
    "\n",
    "a = [5, 2, 3, 1, 4]\n",
    "a.sort()\n",
    "print(a)\n",
    "\n",
    "print(sorted({1: 'D', 2: 'B', 3: 'A'}))"
   ]
  },
  {
   "cell_type": "code",
   "execution_count": 5,
   "metadata": {
    "tags": []
   },
   "outputs": [
    {
     "output_type": "stream",
     "name": "stdout",
     "text": "['a', 'Andrew', 'from', 'is', 'string', 'test', 'This']\n[('dave', 'B', 10), ('jane', 'B', 12), ('john', 'A', 15)]\n"
    }
   ],
   "source": [
    "# Key function\n",
    "print(sorted(\"This is a test string from Andrew\".split(), key=str.lower))\n",
    "\n",
    "student_tuples = [\n",
    "    ('john', 'A', 15),\n",
    "    ('jane', 'B', 12),\n",
    "    ('dave', 'B', 10)\n",
    "]\n",
    "\n",
    "print(sorted(student_tuples, key=lambda student: student[2]))"
   ]
  },
  {
   "cell_type": "code",
   "execution_count": 3,
   "metadata": {
    "tags": []
   },
   "outputs": [
    {
     "output_type": "stream",
     "name": "stdout",
     "text": "[('dave', 'B', 10), ('jane', 'B', 12), ('john', 'A', 15)]\n[('dave', 'B', 10), ('jane', 'B', 12), ('john', 'A', 15)]\n"
    }
   ],
   "source": [
    "# operator module\n",
    "from operator import itemgetter, attrgetter\n",
    "\n",
    "student_tuples = [\n",
    "    ('john', 'A', 15),\n",
    "    ('jane', 'B', 12),\n",
    "    ('dave', 'B', 10)\n",
    "]\n",
    "\n",
    "print(sorted(student_tuples, key=itemgetter(2)))\n",
    "\n",
    "class Student:\n",
    "    def __init__(self, name, grade, age):\n",
    "        self.name = name\n",
    "        self.grade = grade\n",
    "        self.age = age\n",
    "\n",
    "    def __repr__(self):\n",
    "        return repr((self.name, self.grade, self.age))\n",
    "\n",
    "student_objects = [\n",
    "    Student('john', 'A', 15),\n",
    "    Student('jane', 'B', 12),\n",
    "    Student('dave', 'B', 10)\n",
    "]\n",
    "\n",
    "print(sorted(student_objects, key=attrgetter('age')))"
   ]
  },
  {
   "cell_type": "code",
   "execution_count": 5,
   "metadata": {},
   "outputs": [
    {
     "output_type": "error",
     "ename": "SyntaxError",
     "evalue": "invalid syntax (<ipython-input-5-cb1c81ec0266>, line 7)",
     "traceback": [
      "\u001b[1;36m  File \u001b[1;32m\"<ipython-input-5-cb1c81ec0266>\"\u001b[1;36m, line \u001b[1;32m7\u001b[0m\n\u001b[1;33m    else return 0\u001b[0m\n\u001b[1;37m         ^\u001b[0m\n\u001b[1;31mSyntaxError\u001b[0m\u001b[1;31m:\u001b[0m invalid syntax\n"
     ]
    }
   ],
   "source": [
    "# Compare function\n",
    "from functools import cmp_to_key\n",
    "\n",
    "def compare(a, b):\n",
    "    if a < b: return 1\n",
    "    elif a > b: return -1\n",
    "    else: return 0\n",
    "\n",
    "sorted([5, 1, 4, 3, 5], key=cmp_to_key(compare))"
   ]
  }
 ]
}