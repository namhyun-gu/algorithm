{
 "cells": [
  {
   "cell_type": "code",
   "execution_count": 1,
   "metadata": {},
   "outputs": [],
   "source": [
    "test_list = [1, 2, 3, 4, 5]\n",
    "test_str_list = list(\"ABCDE\")"
   ]
  },
  {
   "cell_type": "code",
   "execution_count": 8,
   "metadata": {},
   "outputs": [
    {
     "name": "stdout",
     "output_type": "stream",
     "text": [
      "[1, 2, 3]\n",
      "[4, 5]\n",
      "[5, 4, 3, 2, 1]\n",
      "['E', 'D', 'C', 'B', 'A']\n"
     ]
    }
   ],
   "source": [
    "# Slicing\n",
    "print(test_list[:3])\n",
    "print(test_list[3:])\n",
    "print(test_list[::-1])\n",
    "print(test_str_list[::-1])"
   ]
  },
  {
   "cell_type": "code",
   "execution_count": 5,
   "metadata": {},
   "outputs": [
    {
     "name": "stdout",
     "output_type": "stream",
     "text": [
      "True\n",
      "False\n"
     ]
    }
   ],
   "source": [
    "# Copy\n",
    "new_test_list = test_list[:]\n",
    "print(test_list == new_test_list)\n",
    "print(test_list is new_test_list)"
   ]
  },
  {
   "cell_type": "code",
   "execution_count": 6,
   "metadata": {},
   "outputs": [
    {
     "name": "stdout",
     "output_type": "stream",
     "text": [
      "True\n",
      "False\n"
     ]
    }
   ],
   "source": [
    "# Copy 2\n",
    "new_test_list = test_list.copy()\n",
    "print(test_list == new_test_list)\n",
    "print(test_list is new_test_list)"
   ]
  },
  {
   "cell_type": "code",
   "execution_count": 10,
   "metadata": {},
   "outputs": [
    {
     "name": "stdout",
     "output_type": "stream",
     "text": [
      "[[1, 2], [3, 4, 5]]\n",
      "[[1, 2], [3, 4]]\n"
     ]
    }
   ],
   "source": [
    "# Deep Copy\n",
    "import copy\n",
    "test_2d_list = [[1, 2], [3, 4]]\n",
    "new_test_2d_list = copy.deepcopy(test_2d_list)\n",
    "test_2d_list[1].append(5)\n",
    "print(test_2d_list)\n",
    "print(new_test_2d_list)"
   ]
  },
  {
   "cell_type": "code",
   "execution_count": 9,
   "metadata": {},
   "outputs": [
    {
     "name": "stdout",
     "output_type": "stream",
     "text": [
      "[1, 3, 5]\n",
      "[5, 4, 3, 2, 1]\n"
     ]
    }
   ],
   "source": [
    "# Step\n",
    "print(test_list[::2])\n",
    "print(test_list[::-1])"
   ]
  },
  {
   "cell_type": "code",
   "execution_count": 11,
   "metadata": {},
   "outputs": [
    {
     "name": "stdout",
     "output_type": "stream",
     "text": [
      "[1, 2, 3, 4, 5, 1, 2, 3, 4, 5, 1, 2, 3, 4, 5]\n"
     ]
    }
   ],
   "source": [
    "# Repetition\n",
    "print(test_list * 3)"
   ]
  },
  {
   "cell_type": "code",
   "execution_count": 13,
   "metadata": {},
   "outputs": [
    {
     "name": "stdout",
     "output_type": "stream",
     "text": [
      "0\n",
      "2\n"
     ]
    }
   ],
   "source": [
    "# .index(item)\n",
    "cities = ['Seoul', 'Incheon', 'Daejeon', 'Busan', 'Jeju']\n",
    "print(cities.index('Seoul'))\n",
    "print(cities.index('Daejeon'))"
   ]
  },
  {
   "cell_type": "code",
   "execution_count": 14,
   "metadata": {},
   "outputs": [
    {
     "name": "stdout",
     "output_type": "stream",
     "text": [
      "3\n"
     ]
    }
   ],
   "source": [
    "# .count(item)\n",
    "numbers = [1, 2, 2, 2, 4, 5, 9]\n",
    "print(numbers.count(2))"
   ]
  },
  {
   "cell_type": "code",
   "execution_count": 16,
   "metadata": {},
   "outputs": [
    {
     "name": "stdout",
     "output_type": "stream",
     "text": [
      "True\n",
      "True\n"
     ]
    }
   ],
   "source": [
    "# contains\n",
    "cities = ['Seoul', 'Incheon', 'Daejeon', 'Busan', 'Jeju']\n",
    "print('Seoul' in cities)\n",
    "print('Gwangju' not in cities)"
   ]
  },
  {
   "cell_type": "code",
   "execution_count": 17,
   "metadata": {},
   "outputs": [
    {
     "name": "stdout",
     "output_type": "stream",
     "text": [
      "[1, 2, 3, 4, 5, 6]\n",
      "[1, 2, 3, 3, 4, 5, 6]\n",
      "[1, 2, 3, 4, 5, 6]\n",
      "[1, 2, 3, 4, 5]\n",
      "[1, 2, 3, 4, 5, 6]\n"
     ]
    }
   ],
   "source": [
    "# Insertion\n",
    "test = [1, 2, 3, 4, 5]\n",
    "\n",
    "# .append(item)\n",
    "test.append(6) \n",
    "print(test)\n",
    "\n",
    "# .insert(idx, item)\n",
    "test.insert(2, 3)\n",
    "print(test)\n",
    "\n",
    "# '+' operator\n",
    "n = [1, 2, 3]\n",
    "m = [4, 5, 6]\n",
    "nm = n + m\n",
    "print(nm)\n",
    "\n",
    "a = [1, 2, 3]\n",
    "a += [4, 5]\n",
    "print(a)\n",
    "\n",
    "# .extend(list)\n",
    "b = [1, 2, 3]\n",
    "b.extend([4, 5, 6])\n",
    "print(b)"
   ]
  },
  {
   "cell_type": "code",
   "execution_count": 18,
   "metadata": {},
   "outputs": [
    {
     "name": "stdout",
     "output_type": "stream",
     "text": [
      "[1, 3, 4, 5, 6]\n",
      "[1, 4, 5, 6]\n"
     ]
    }
   ],
   "source": [
    "# Delete\n",
    "a = [1, 2, 3, 4, 5, 6]\n",
    "\n",
    "# del keyword\n",
    "del a[1]\n",
    "print(a)\n",
    "\n",
    "# .remove(item)\n",
    "a.remove(3)\n",
    "print(a)"
   ]
  },
  {
   "cell_type": "code",
   "execution_count": 21,
   "metadata": {},
   "outputs": [
    {
     "name": "stdout",
     "output_type": "stream",
     "text": [
      "[5, 3, 2, 4, 1]\n",
      "[1, 2, 3, 4, 5]\n",
      "[5, 4, 3, 2, 1]\n",
      "[1, 4, 2, 3, 5]\n",
      "[1, 2, 3, 4, 5]\n",
      "<class 'list_reverseiterator'>\n",
      "[5, 3, 2, 4, 1]\n"
     ]
    }
   ],
   "source": [
    "# Sorting\n",
    "a = [1, 4, 2, 3, 5]\n",
    "\n",
    "# Reverse\n",
    "a.reverse()\n",
    "print(a)\n",
    "\n",
    "# .sort() : Sort by asc\n",
    "a.sort()\n",
    "print(a)\n",
    "\n",
    "# .sort(reverse=True) : Sort by desc\n",
    "a.sort(reverse=True)\n",
    "print(a)\n",
    "\n",
    "# sorted() : Return new sorted list\n",
    "b = [1, 4, 2, 3, 5]\n",
    "c = sorted(b)\n",
    "print(b)\n",
    "print(c)\n",
    "\n",
    "# reversed() : Return reversed iterator\n",
    "reverse = reversed(b)\n",
    "print(type(reverse))\n",
    "print(list(reverse))"
   ]
  }
 ],
 "metadata": {
  "kernelspec": {
   "display_name": "Python 3",
   "language": "python",
   "name": "python3"
  },
  "language_info": {
   "codemirror_mode": {
    "name": "ipython",
    "version": 3
   },
   "file_extension": ".py",
   "mimetype": "text/x-python",
   "name": "python",
   "nbconvert_exporter": "python",
   "pygments_lexer": "ipython3",
   "version": "3.8.5"
  }
 },
 "nbformat": 4,
 "nbformat_minor": 1
}
