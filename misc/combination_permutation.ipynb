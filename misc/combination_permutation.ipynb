{
 "metadata": {
  "language_info": {
   "codemirror_mode": {
    "name": "ipython",
    "version": 3
   },
   "file_extension": ".py",
   "mimetype": "text/x-python",
   "name": "python",
   "nbconvert_exporter": "python",
   "pygments_lexer": "ipython3",
   "version": "3.9.0-final"
  },
  "orig_nbformat": 2,
  "kernelspec": {
   "name": "python3",
   "display_name": "Python 3",
   "language": "python"
  }
 },
 "nbformat": 4,
 "nbformat_minor": 2,
 "cells": [
  {
   "cell_type": "code",
   "execution_count": 1,
   "metadata": {},
   "outputs": [
    {
     "output_type": "stream",
     "name": "stdout",
     "text": [
      "1 2\n1 3\n1 4\n2 1\n2 3\n2 4\n3 1\n3 2\n3 4\n4 1\n4 2\n4 3\n\n"
     ]
    }
   ],
   "source": [
    "# 순열 (Permutations)\n",
    "# 리스트에서 r개를 뽑힌 순서대로 나열 (같은 값이 나오더라도 순서가 다르면 다른 경우로 취급)\n",
    "from itertools import permutations\n",
    "\n",
    "for picks in permutations([1, 2, 3, 4], 2):\n",
    "    print(\" \".join(map(str, picks)))\n",
    "print()"
   ]
  },
  {
   "cell_type": "code",
   "execution_count": 2,
   "metadata": {},
   "outputs": [
    {
     "output_type": "stream",
     "name": "stdout",
     "text": [
      "1 2\n1 3\n1 4\n2 3\n2 4\n3 4\n\n"
     ]
    }
   ],
   "source": [
    "# 조합 (Combinations)\n",
    "# 리스트에서 중복을 허용하지 않고 r개를 뽑는다. 뽑은 순서는 고려하지 않는다.\n",
    "from itertools import combinations\n",
    "\n",
    "for picks in combinations([1, 2, 3, 4], 2):\n",
    "    print(\" \".join(map(str, picks)))\n",
    "print()"
   ]
  },
  {
   "cell_type": "code",
   "execution_count": 3,
   "metadata": {},
   "outputs": [
    {
     "output_type": "stream",
     "name": "stdout",
     "text": [
      "0 0\n0 1\n0 2\n1 0\n1 1\n1 2\n2 0\n2 1\n2 2\n\n"
     ]
    }
   ],
   "source": [
    "# 중복 순열 (Product)\n",
    "from itertools import product\n",
    "\n",
    "for picks in product(range(3), range(3)):\n",
    "    print(\" \".join(map(str, picks)))\n",
    "print()"
   ]
  },
  {
   "cell_type": "code",
   "execution_count": 4,
   "metadata": {},
   "outputs": [
    {
     "output_type": "stream",
     "name": "stdout",
     "text": [
      "1 1\n1 2\n1 3\n1 4\n2 2\n2 3\n2 4\n3 3\n3 4\n4 4\n\n"
     ]
    }
   ],
   "source": [
    "# 중복 조합 (Combinations with Replacement)\n",
    "from itertools import combinations_with_replacement\n",
    "\n",
    "for picks in combinations_with_replacement([1, 2, 3, 4], 2):\n",
    "    print(\" \".join(map(str, picks)))\n",
    "print()"
   ]
  },
  {
   "cell_type": "code",
   "execution_count": null,
   "metadata": {},
   "outputs": [],
   "source": []
  }
 ]
}