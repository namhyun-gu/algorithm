{
 "cells": [
  {
   "cell_type": "code",
   "execution_count": 3,
   "metadata": {},
   "outputs": [],
   "source": [
    "import itertools"
   ]
  },
  {
   "cell_type": "code",
   "execution_count": 8,
   "metadata": {
    "tags": []
   },
   "outputs": [
    {
     "output_type": "stream",
     "name": "stdout",
     "text": "('A', 'B', 'C', 'D')\n('A', 'B', 'D', 'C')\n('A', 'C', 'B', 'D')\n('A', 'C', 'D', 'B')\n('A', 'D', 'B', 'C')\n('A', 'D', 'C', 'B')\n('B', 'A', 'C', 'D')\n('B', 'A', 'D', 'C')\n('B', 'C', 'A', 'D')\n('B', 'C', 'D', 'A')\n('B', 'D', 'A', 'C')\n('B', 'D', 'C', 'A')\n('C', 'A', 'B', 'D')\n('C', 'A', 'D', 'B')\n('C', 'B', 'A', 'D')\n('C', 'B', 'D', 'A')\n('C', 'D', 'A', 'B')\n('C', 'D', 'B', 'A')\n('D', 'A', 'B', 'C')\n('D', 'A', 'C', 'B')\n('D', 'B', 'A', 'C')\n('D', 'B', 'C', 'A')\n('D', 'C', 'A', 'B')\n('D', 'C', 'B', 'A')\n"
    }
   ],
   "source": [
    "# permutations(p, r)\n",
    "for it in itertools.permutations('ABCD'):\n",
    "    print(it)"
   ]
  },
  {
   "cell_type": "code",
   "execution_count": 9,
   "metadata": {
    "tags": []
   },
   "outputs": [
    {
     "output_type": "stream",
     "name": "stdout",
     "text": "('A', 'B')\n('A', 'C')\n('A', 'D')\n('B', 'C')\n('B', 'D')\n('C', 'D')\n"
    }
   ],
   "source": [
    "# combinations(p, r)\n",
    "for it in itertools.combinations('ABCD', 2):\n",
    "    print(it)"
   ]
  },
  {
   "cell_type": "code",
   "execution_count": 11,
   "metadata": {
    "tags": []
   },
   "outputs": [
    {
     "output_type": "stream",
     "name": "stdout",
     "text": "(1, 1)\n(1, 2)\n(1, 3)\n(1, 4)\n(1, 5)\n(2, 2)\n(2, 3)\n(2, 4)\n(2, 5)\n(3, 3)\n(3, 4)\n(3, 5)\n(4, 4)\n(4, 5)\n(5, 5)\n"
    }
   ],
   "source": [
    "# combinations_with_replacement(iterable, r)\n",
    "# can duplicate\n",
    "for it in itertools.combinations_with_replacement([1, 2, 3, 4, 5], 2):\n",
    "    print(it)"
   ]
  },
  {
   "cell_type": "code",
   "execution_count": 10,
   "metadata": {
    "tags": []
   },
   "outputs": [
    {
     "output_type": "stream",
     "name": "stdout",
     "text": "Rainy ->\nSeoul\nIncheon\n\nSunny ->\nBusan\n\n"
    }
   ],
   "source": [
    "# groupby(iter, key_func)\n",
    "city_list = [('Seoul', 'Rainy'), ('Incheon', 'Rainy'), ('Busan', 'Sunny')]\n",
    "\n",
    "def get_state(city_state):\n",
    "    return city_state[1]\n",
    "\n",
    "for key, group in itertools.groupby(city_list, get_state):\n",
    "    print(key, '->')\n",
    "    for city in group:\n",
    "        print(city[0])\n",
    "    print()"
   ]
  }
 ],
 "metadata": {
  "kernelspec": {
   "display_name": "Python 3",
   "language": "python",
   "name": "python3"
  },
  "language_info": {
   "codemirror_mode": {
    "name": "ipython",
    "version": 3
   },
   "file_extension": ".py",
   "mimetype": "text/x-python",
   "name": "python",
   "nbconvert_exporter": "python",
   "pygments_lexer": "ipython3",
   "version": "3.8.5-final"
  }
 },
 "nbformat": 4,
 "nbformat_minor": 4
}