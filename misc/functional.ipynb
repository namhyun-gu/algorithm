{
 "metadata": {
  "language_info": {
   "codemirror_mode": {
    "name": "ipython",
    "version": 3
   },
   "file_extension": ".py",
   "mimetype": "text/x-python",
   "name": "python",
   "nbconvert_exporter": "python",
   "pygments_lexer": "ipython3",
   "version": "3.8.5-final"
  },
  "orig_nbformat": 2,
  "kernelspec": {
   "name": "python_defaultSpec_1599839484500",
   "display_name": "Python 3.8.5 64-bit"
  }
 },
 "nbformat": 4,
 "nbformat_minor": 2,
 "cells": [
  {
   "cell_type": "code",
   "execution_count": 1,
   "metadata": {},
   "outputs": [],
   "source": [
    "# Reference: https://docs.python.org/ko/3/howto/functional.html"
   ]
  },
  {
   "cell_type": "code",
   "execution_count": 2,
   "metadata": {},
   "outputs": [
    {
     "output_type": "execute_result",
     "data": {
      "text/plain": "['SENTENCE', 'FRAGMENT']"
     },
     "metadata": {},
     "execution_count": 2
    }
   ],
   "source": [
    "# map(function, iterA, iterB)\n",
    "def upper(s: str) -> str:\n",
    "    return s.upper()\n",
    "\n",
    "list(map(upper, ['sentence', 'fragment']))"
   ]
  },
  {
   "cell_type": "code",
   "execution_count": 3,
   "metadata": {},
   "outputs": [
    {
     "output_type": "execute_result",
     "data": {
      "text/plain": "[0, 2, 4, 6, 8]"
     },
     "metadata": {},
     "execution_count": 3
    }
   ],
   "source": [
    "# filter(predicate, iter)\n",
    "def is_even(x):\n",
    "    return (x % 2) == 0\n",
    "\n",
    "list(filter(is_even, range(10)))"
   ]
  },
  {
   "cell_type": "code",
   "execution_count": 5,
   "metadata": {
    "tags": []
   },
   "outputs": [
    {
     "output_type": "stream",
     "name": "stdout",
     "text": "(0, 'subject')\n(1, 'verb')\n(2, 'object')\n"
    }
   ],
   "source": [
    "# enumerate(iter, start=0)\n",
    "for item in enumerate(['subject', 'verb', 'object']):\n",
    "    print(item)"
   ]
  },
  {
   "cell_type": "code",
   "execution_count": 6,
   "metadata": {
    "tags": []
   },
   "outputs": [
    {
     "output_type": "stream",
     "name": "stdout",
     "text": "[417, 881, 442, 906, 345, 505, 492, 970]\n[345, 417, 442, 492, 505, 881, 906, 970]\n[970, 906, 881, 505, 492, 442, 417, 345]\n"
    }
   ],
   "source": [
    "# sorted(iterable, key, reverse)\n",
    "import random\n",
    "rand_list = random.sample(range(1000), 8)\n",
    "print(rand_list)\n",
    "print(sorted(rand_list))\n",
    "print(sorted(rand_list,reverse=True))"
   ]
  },
  {
   "cell_type": "code",
   "execution_count": 7,
   "metadata": {
    "tags": []
   },
   "outputs": [
    {
     "output_type": "stream",
     "name": "stdout",
     "text": "True\nFalse\nTrue\n"
    }
   ],
   "source": [
    "# any(iter) / all(iter)\n",
    "print(any([0, 1, 0])) # any item is true?\n",
    "print(all([0, 1, 0])) # all item is true?\n",
    "print(all([1, 1, 1]))"
   ]
  },
  {
   "cell_type": "code",
   "execution_count": 11,
   "metadata": {},
   "outputs": [
    {
     "output_type": "execute_result",
     "data": {
      "text/plain": "[('a',), ('b',), ('c',), ((1, 2, 3),)]"
     },
     "metadata": {},
     "execution_count": 11
    }
   ],
   "source": [
    "# zip(iterA, iterB, ...)\n",
    "list(zip(['a', 'b', 'c', (1, 2, 3)])) # Iterator to tuple"
   ]
  },
  {
   "cell_type": "code",
   "execution_count": 1,
   "metadata": {
    "tags": []
   },
   "outputs": [
    {
     "output_type": "stream",
     "name": "stdout",
     "text": "3\na=b\n"
    }
   ],
   "source": [
    "# lambda\n",
    "# (!) if...elif...else, try...except X\n",
    "adder = lambda x, y: x + y\n",
    "print(adder(1, 2))\n",
    "\n",
    "print_assign = lambda name, value: name + '=' + str(value)\n",
    "print(print_assign(\"a\", \"b\"))"
   ]
  }
 ]
}